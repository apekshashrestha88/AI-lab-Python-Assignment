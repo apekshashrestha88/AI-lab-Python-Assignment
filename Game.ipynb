{
 "cells": [
  {
   "cell_type": "code",
   "execution_count": 6,
   "metadata": {},
   "outputs": [
    {
     "name": "stdout",
     "output_type": "stream",
     "text": [
      "Too low! Try again.\n",
      "Too low! Try again.\n",
      "Too high! Try again.\n",
      "Too low! Try again.\n",
      "Too low! Try again.\n",
      "Congratulations! You guessed the correct number 69 in 6 attempts.\n"
     ]
    }
   ],
   "source": [
    "import random\n",
    "\n",
    "def guess_the_number():\n",
    "    # Generate a random number between 1 and 100\n",
    "    correct_number = random.randint(1, 100)\n",
    "\n",
    "    attempts = 0\n",
    "    while True:\n",
    "        user_guess = input(\"Guess the number between 1 and 100: \")\n",
    "        \n",
    "        try:\n",
    "            user_guess = int(user_guess)\n",
    "        except ValueError:\n",
    "            print(\"Invalid input. Please enter a valid integer.\")\n",
    "            continue\n",
    "\n",
    "        attempts += 1\n",
    "\n",
    "        if user_guess == correct_number: #to check if the number is correct\n",
    "            print(f\"Congratulations! You guessed the correct number {correct_number} in {attempts} attempts.\")\n",
    "            break\n",
    "        elif user_guess < correct_number:\n",
    "            print(\"Too low! Try again.\")\n",
    "        else:\n",
    "            print(\"Too high! Try again.\")\n",
    "\n",
    "# Run the game\n",
    "guess_the_number()\n"
   ]
  }
 ],
 "metadata": {
  "kernelspec": {
   "display_name": "Python 3",
   "language": "python",
   "name": "python3"
  },
  "language_info": {
   "codemirror_mode": {
    "name": "ipython",
    "version": 3
   },
   "file_extension": ".py",
   "mimetype": "text/x-python",
   "name": "python",
   "nbconvert_exporter": "python",
   "pygments_lexer": "ipython3",
   "version": "3.12.1"
  }
 },
 "nbformat": 4,
 "nbformat_minor": 2
}
